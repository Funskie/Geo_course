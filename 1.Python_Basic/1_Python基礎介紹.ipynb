{
 "cells": [
  {
   "cell_type": "code",
   "execution_count": null,
   "metadata": {},
   "outputs": [],
   "source": [
    "!python -V"
   ]
  },
  {
   "cell_type": "markdown",
   "metadata": {},
   "source": [
    "# 首先來個起手式..."
   ]
  },
  {
   "cell_type": "code",
   "execution_count": null,
   "metadata": {},
   "outputs": [],
   "source": [
    "print('Hello world!!!')"
   ]
  },
  {
   "cell_type": "markdown",
   "metadata": {},
   "source": [
    "### Zen of python"
   ]
  },
  {
   "cell_type": "code",
   "execution_count": null,
   "metadata": {},
   "outputs": [],
   "source": [
    "import this"
   ]
  },
  {
   "cell_type": "markdown",
   "metadata": {},
   "source": [
    "# 變數\n",
    "Python中常見的基本型別有：`int`、`float`、`str`、`bool`、`NoneType`。\n",
    "Python中結構化的型別有：`list`、`tuple`、`dict`...。"
   ]
  },
  {
   "cell_type": "code",
   "execution_count": null,
   "metadata": {},
   "outputs": [],
   "source": [
    "v_int = 10\n",
    "v_float = 1.5\n",
    "v_str = 'Funskie'\n",
    "v_bool = True\n",
    "v_na = None\n",
    "\n",
    "print(f\"變數 v_int 的值是 {v_int} ，型別是 {type(v_int)}\")\n",
    "print(f\"變數 v_float 的值是 {v_float} ，型別是 {type(v_float)}\")\n",
    "print(f\"變數 v_str 的值是 {v_str} ，型別是 {type(v_str)}\")\n",
    "print(f\"變數 v_bool 的值是 {v_bool} ，型別是 {type(v_bool)}\")\n",
    "print(f\"變數 v_na 的值是 {v_na} ，型別是 {type(v_na)}\")"
   ]
  },
  {
   "cell_type": "code",
   "execution_count": null,
   "metadata": {},
   "outputs": [],
   "source": [
    "isinstance(v_bool, bool)"
   ]
  },
  {
   "cell_type": "markdown",
   "metadata": {},
   "source": [
    "## 算術運算子\n",
    "```\n",
    "a + b    # 加\n",
    "a - b    # 減\n",
    "a * b    # 乘\n",
    "a ** b   # 指數\n",
    "a / b    # 除\n",
    "a // b   # 整除\n",
    "a % b    # 取餘\n",
    "```\n",
    "Try it!"
   ]
  },
  {
   "cell_type": "code",
   "execution_count": null,
   "metadata": {},
   "outputs": [],
   "source": []
  },
  {
   "cell_type": "markdown",
   "metadata": {},
   "source": [
    "## Input"
   ]
  },
  {
   "cell_type": "code",
   "execution_count": null,
   "metadata": {},
   "outputs": [],
   "source": [
    "name = input('What is your name?')\n",
    "print('Hi!', name)"
   ]
  },
  {
   "cell_type": "markdown",
   "metadata": {},
   "source": [
    "## Range\n",
    "Range用來創建並儲存特定範圍內的整數，內容不可修改`range(start, stop, step)`"
   ]
  },
  {
   "cell_type": "code",
   "execution_count": null,
   "metadata": {},
   "outputs": [],
   "source": [
    "range_0_10 = range(10)\n",
    "range_1_10 = range(1, 10)\n",
    "range_1_10_2 = range(1, 10, 2)"
   ]
  },
  {
   "cell_type": "code",
   "execution_count": null,
   "metadata": {},
   "outputs": [],
   "source": [
    "print(f\"range_0_10 起點值 {range_0_10[0]}, 終點值 {range_0_10[-1]}, 長度 {len(range_0_10)}\")\n",
    "print(f\"range_1_10 起點值 {range_1_10[0]}, 終點值 {range_1_10[-1]}, 長度 {len(range_1_10)}\")\n",
    "print(f\"range_1_10_2 起點值 {range_1_10_2[0]}, 終點值 {range_1_10_2[-1]}, 長度 {len(range_1_10_2)}\")"
   ]
  },
  {
   "cell_type": "code",
   "execution_count": null,
   "metadata": {},
   "outputs": [],
   "source": [
    "for i in range_1_10_2:\n",
    "    print(i)"
   ]
  },
  {
   "cell_type": "markdown",
   "metadata": {},
   "source": [
    "## List"
   ]
  },
  {
   "cell_type": "code",
   "execution_count": null,
   "metadata": {},
   "outputs": [],
   "source": [
    "v_list = [v_int, v_float, v_str, v_bool]\n",
    "print(v_list)\n",
    "print('Type:', type(v_list))\n",
    "print('Length:', len(v_list))\n",
    "print('First element:', v_list[0])\n",
    "print('Last element:', v_list[-1])"
   ]
  },
  {
   "cell_type": "code",
   "execution_count": null,
   "metadata": {},
   "outputs": [],
   "source": [
    "random_number_list = [2,9,0,1,4,23,6]\n",
    "print('Sorted list:', sorted(random_number_list))\n",
    "print('Max:', max(random_number_list))\n",
    "print('Min:', min(random_number_list))\n",
    "print('Index 0:', random_number_list.index(0))"
   ]
  },
  {
   "cell_type": "code",
   "execution_count": null,
   "metadata": {},
   "outputs": [],
   "source": [
    "random_number_list[0] = 1\n",
    "random_number_list"
   ]
  },
  {
   "cell_type": "markdown",
   "metadata": {},
   "source": [
    "索引"
   ]
  },
  {
   "cell_type": "markdown",
   "metadata": {},
   "source": [
    "`seq[start:end:step]`"
   ]
  },
  {
   "cell_type": "code",
   "execution_count": null,
   "metadata": {},
   "outputs": [],
   "source": [
    "random_number_list[0]"
   ]
  },
  {
   "cell_type": "markdown",
   "metadata": {},
   "source": [
    "append、pop、reverse"
   ]
  },
  {
   "cell_type": "code",
   "execution_count": null,
   "metadata": {},
   "outputs": [],
   "source": [
    "random_number_list.append(10)\n",
    "random_number_list"
   ]
  },
  {
   "cell_type": "code",
   "execution_count": null,
   "metadata": {},
   "outputs": [],
   "source": [
    "random_number_list.pop()\n",
    "random_number_list"
   ]
  },
  {
   "cell_type": "code",
   "execution_count": null,
   "metadata": {},
   "outputs": [],
   "source": [
    "random_number_list.reverse()\n",
    "random_number_list"
   ]
  },
  {
   "cell_type": "markdown",
   "metadata": {},
   "source": [
    " #### 例題：\n",
    " 利用程式找出下列`list_1000`最大值的index"
   ]
  },
  {
   "cell_type": "code",
   "execution_count": null,
   "metadata": {},
   "outputs": [],
   "source": [
    "import random\n",
    "list_1000 = [random.randint(0, 10000) for _ in range(1000)]"
   ]
  },
  {
   "cell_type": "code",
   "execution_count": null,
   "metadata": {},
   "outputs": [],
   "source": []
  },
  {
   "cell_type": "markdown",
   "metadata": {},
   "source": [
    "## Tuple\n",
    "tuple的元素值不可以修改!不可以刪除!\n",
    "也因此沒有像list有一些改變元素值的方法（例如：list.pop()、list.reverse()......等）"
   ]
  },
  {
   "cell_type": "code",
   "execution_count": null,
   "metadata": {},
   "outputs": [],
   "source": [
    "list1 = list(range(1000))\n",
    "tuple1 = tuple(range(1000))\n",
    "\n",
    "print (\"list資料結構：\", list1.__sizeof__(), 'Byte ')\n",
    "print (\"tuple資料結構：\", tuple1.__sizeof__(), 'Byte ')"
   ]
  },
  {
   "cell_type": "markdown",
   "metadata": {},
   "source": [
    "## Dictionary"
   ]
  },
  {
   "cell_type": "code",
   "execution_count": null,
   "metadata": {},
   "outputs": [],
   "source": [
    "movie_1 = {\n",
    "    'name':'Saving Private Ryan',\n",
    "    'year':1998,\n",
    "    'Stars':['Tom Hanks', 'Matt Damon', 'Tom Sizemore'],\n",
    "        }"
   ]
  },
  {
   "cell_type": "code",
   "execution_count": null,
   "metadata": {},
   "outputs": [],
   "source": [
    "movie_1"
   ]
  },
  {
   "cell_type": "markdown",
   "metadata": {},
   "source": [
    "新增"
   ]
  },
  {
   "cell_type": "code",
   "execution_count": null,
   "metadata": {},
   "outputs": [],
   "source": [
    "movie_1['director'] = 'Steven Spielberg'"
   ]
  },
  {
   "cell_type": "code",
   "execution_count": null,
   "metadata": {},
   "outputs": [],
   "source": [
    "movie_1"
   ]
  },
  {
   "cell_type": "markdown",
   "metadata": {},
   "source": [
    "更新"
   ]
  },
  {
   "cell_type": "code",
   "execution_count": null,
   "metadata": {},
   "outputs": [],
   "source": [
    "movie_1['year'] = 2010\n",
    "movie_1"
   ]
  },
  {
   "cell_type": "code",
   "execution_count": null,
   "metadata": {},
   "outputs": [],
   "source": [
    "tmp_dict = {\n",
    "    'year':1998,\n",
    "    'director':'Funskie Fang',\n",
    "    'writer':'LBJ'\n",
    "}\n",
    "movie_1.update(tmp_dict)"
   ]
  },
  {
   "cell_type": "code",
   "execution_count": null,
   "metadata": {},
   "outputs": [],
   "source": [
    "movie_1"
   ]
  },
  {
   "cell_type": "markdown",
   "metadata": {},
   "source": [
    "刪除"
   ]
  },
  {
   "cell_type": "code",
   "execution_count": null,
   "metadata": {},
   "outputs": [],
   "source": [
    "del movie_1['writer']"
   ]
  },
  {
   "cell_type": "code",
   "execution_count": null,
   "metadata": {},
   "outputs": [],
   "source": [
    "movie_1"
   ]
  },
  {
   "cell_type": "code",
   "execution_count": null,
   "metadata": {},
   "outputs": [],
   "source": [
    "movie_1.pop('year')"
   ]
  },
  {
   "cell_type": "code",
   "execution_count": null,
   "metadata": {},
   "outputs": [],
   "source": [
    "movie_1"
   ]
  },
  {
   "cell_type": "markdown",
   "metadata": {},
   "source": [
    "# 流程控制(if...else...)\n",
    "|運算子|效果|\n",
    "|----|----|\n",
    "|`x < y`|X是否小於Y|\n",
    "|`x <= y`\t|X是否小於等於Y|\n",
    "|`x > y`\t    |X是否大於Y|\n",
    "|`x >= y`\t|X是否大於等於Y|\n",
    "|`x == y`\t|X是否等於Y|\n",
    "|`x != y`\t|X是否不等於Y|\n",
    "\n",
    "|運算子|效果|\n",
    "|----|----|\n",
    "|`a or b`|A或B其中一個條件成立就回傳True|\n",
    "|`a and b`|A或B兩個條件都成立才回傳True|\n",
    "|`not A`|如果A為True，則回傳False，反之則回傳True|"
   ]
  },
  {
   "cell_type": "code",
   "execution_count": null,
   "metadata": {},
   "outputs": [],
   "source": [
    "a = 1\n",
    "\n",
    "if a >= 3:\n",
    "    print('a >= 3')\n",
    "elif a >= 2:\n",
    "    print('a >= 2')\n",
    "else:\n",
    "    print('?!')"
   ]
  },
  {
   "cell_type": "code",
   "execution_count": null,
   "metadata": {},
   "outputs": [],
   "source": [
    "score = int(input(\"請輸入你上次的考試成績:  \"))\n",
    "\n",
    "if score >= 60 and score <= 100:\n",
    "    print(\"你及格了。\")\n",
    "elif score < 60:\n",
    "     print(\"你被當了。\")\n",
    "else:\n",
    "    print(\"我書讀不多，你別騙我。\")"
   ]
  },
  {
   "cell_type": "markdown",
   "metadata": {},
   "source": [
    "### 比較 is and == !?!?!?"
   ]
  },
  {
   "cell_type": "code",
   "execution_count": null,
   "metadata": {},
   "outputs": [],
   "source": [
    "a = 1.0\n",
    "b = a\n",
    "c = [1, 2, 3][0]"
   ]
  },
  {
   "cell_type": "code",
   "execution_count": null,
   "metadata": {},
   "outputs": [],
   "source": [
    "print(a == b)\n",
    "print(a is b)"
   ]
  },
  {
   "cell_type": "code",
   "execution_count": null,
   "metadata": {},
   "outputs": [],
   "source": [
    "print(a == c)\n",
    "print(a is c)"
   ]
  },
  {
   "cell_type": "markdown",
   "metadata": {},
   "source": [
    "#### 例題:\n",
    "\n",
    "小方正在修結構動力學。而老師的成績計算有兩種方案，擇優作為期末成績:\n",
    "\n",
    "1. 小考20%，期中考35%，期末考45%\n",
    "2. 期中考40%，期末考60%。\n",
    "\n",
    "請讓使用者依序輸入自身的小考、期中考、期末考成績，\n",
    "並輸出他的期末分數。"
   ]
  },
  {
   "cell_type": "code",
   "execution_count": null,
   "metadata": {},
   "outputs": [],
   "source": []
  },
  {
   "cell_type": "markdown",
   "metadata": {},
   "source": [
    "# 迴圈\n",
    "`for 變數 in 可迭代物件`"
   ]
  },
  {
   "cell_type": "code",
   "execution_count": null,
   "metadata": {},
   "outputs": [],
   "source": [
    "arr1 = [2, 4, 6, 8, 10]\n",
    "str1 = 'hello python'\n",
    "\n",
    "for i in range(10):\n",
    "    print(i)\n",
    "print('***')\n",
    "\n",
    "for i in range(len(arr1)):\n",
    "    print(arr1[i])\n",
    "print('***')\n",
    "\n",
    "for i in arr1:\n",
    "    print(i)\n",
    "print('***')\n",
    "\n",
    "for i in str1:\n",
    "    print(i)\n",
    "print('***')"
   ]
  },
  {
   "cell_type": "markdown",
   "metadata": {},
   "source": [
    "#### 例題:\n",
    "請印出九九乘法表"
   ]
  },
  {
   "cell_type": "code",
   "execution_count": null,
   "metadata": {},
   "outputs": [],
   "source": []
  },
  {
   "cell_type": "markdown",
   "metadata": {},
   "source": [
    "## List Comprehension"
   ]
  },
  {
   "cell_type": "markdown",
   "metadata": {},
   "source": [
    "#### 例題:\n",
    "\n",
    "- 生出0~9的平方值序列\n",
    "- 生出0~9的偶數值序列"
   ]
  },
  {
   "cell_type": "code",
   "execution_count": null,
   "metadata": {},
   "outputs": [],
   "source": []
  },
  {
   "cell_type": "code",
   "execution_count": null,
   "metadata": {},
   "outputs": [],
   "source": [
    "%%time\n",
    "arr1 = []\n",
    "for i in range(int(1e+6)):\n",
    "    arr1.append(i*i)"
   ]
  },
  {
   "cell_type": "code",
   "execution_count": null,
   "metadata": {},
   "outputs": [],
   "source": [
    "%%time\n",
    "arr2 = [i*i for i in range(int(1e+6))]"
   ]
  },
  {
   "cell_type": "markdown",
   "metadata": {},
   "source": [
    "# 函式定義"
   ]
  },
  {
   "cell_type": "code",
   "execution_count": null,
   "metadata": {},
   "outputs": [],
   "source": [
    "def add(a, b):\n",
    "    return a + b\n",
    "\n",
    "def add_3(a, b, c):\n",
    "    return a + b + c"
   ]
  },
  {
   "cell_type": "code",
   "execution_count": null,
   "metadata": {},
   "outputs": [],
   "source": [
    "z = int(input())\n",
    "y = int(input())\n",
    "x = int(input())\n",
    "\n",
    "d = add_3(x, y, z)\n",
    "print('----')\n",
    "print(d)"
   ]
  },
  {
   "cell_type": "markdown",
   "metadata": {},
   "source": [
    "#### 例題:\n",
    "請完成下列函式，輸入質量與速度並回傳動能 $ mv^2/2 $ "
   ]
  },
  {
   "cell_type": "code",
   "execution_count": null,
   "metadata": {},
   "outputs": [],
   "source": [
    "def KE(m, v):\n",
    "    #請把你的程式碼寫在下面\n",
    "    pass"
   ]
  },
  {
   "cell_type": "markdown",
   "metadata": {},
   "source": [
    "# 模組"
   ]
  },
  {
   "cell_type": "code",
   "execution_count": null,
   "metadata": {},
   "outputs": [],
   "source": [
    "# standard import\n",
    "import math\n",
    "\n",
    "# import and give alias\n",
    "import numpy as np\n",
    "\n",
    "# precise imoprt\n",
    "from datetime import datetime, timedelta\n",
    "\n",
    "# useless statement\n",
    "from os import *"
   ]
  },
  {
   "cell_type": "code",
   "execution_count": null,
   "metadata": {},
   "outputs": [],
   "source": [
    "#函式庫是個圖書館\n",
    "math.sqrt(2)"
   ]
  },
  {
   "cell_type": "code",
   "execution_count": null,
   "metadata": {},
   "outputs": [],
   "source": [
    "a = np.array([[1,0], [0, 1]])\n",
    "a"
   ]
  },
  {
   "cell_type": "code",
   "execution_count": null,
   "metadata": {},
   "outputs": [],
   "source": [
    "datetime.now() + timedelta(1)"
   ]
  },
  {
   "cell_type": "code",
   "execution_count": null,
   "metadata": {},
   "outputs": [],
   "source": []
  }
 ],
 "metadata": {
  "kernelspec": {
   "display_name": "Python 3",
   "language": "python",
   "name": "python3"
  },
  "language_info": {
   "codemirror_mode": {
    "name": "ipython",
    "version": 3
   },
   "file_extension": ".py",
   "mimetype": "text/x-python",
   "name": "python",
   "nbconvert_exporter": "python",
   "pygments_lexer": "ipython3",
   "version": "3.6.10"
  }
 },
 "nbformat": 4,
 "nbformat_minor": 4
}
