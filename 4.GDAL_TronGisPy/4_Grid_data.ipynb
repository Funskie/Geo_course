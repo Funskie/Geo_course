{
 "cells": [
  {
   "cell_type": "code",
   "execution_count": null,
   "metadata": {},
   "outputs": [],
   "source": [
    "import numpy as np \n",
    "import pandas as pd\n",
    "import matplotlib.pyplot as plt\n",
    "\n",
    "import geopandas as gpd\n",
    "from osgeo import gdal, ogr, osr\n",
    "from shapely.geometry import Point\n",
    "from gdalconst import GA_ReadOnly\n",
    "\n",
    "import os, gc\n",
    "import datetime"
   ]
  },
  {
   "cell_type": "markdown",
   "metadata": {},
   "source": [
    "# Read dataset in gdal"
   ]
  },
  {
   "cell_type": "code",
   "execution_count": null,
   "metadata": {},
   "outputs": [],
   "source": [
    "dem_path = os.path.join('data', 'NS_DEM.tif')"
   ]
  },
  {
   "cell_type": "code",
   "execution_count": null,
   "metadata": {},
   "outputs": [],
   "source": [
    "ds = gdal.Open(dem_path)"
   ]
  },
  {
   "cell_type": "code",
   "execution_count": null,
   "metadata": {},
   "outputs": [],
   "source": [
    "geotransform = ds.GetGeoTransform()\n",
    "geotransform"
   ]
  },
  {
   "cell_type": "code",
   "execution_count": null,
   "metadata": {},
   "outputs": [],
   "source": [
    "print(f\"Origin = ({geotransform[0]}, {geotransform[3]})\")\n",
    "print(f\"Pixel Size = ({geotransform[1]}, {geotransform[5]})\")"
   ]
  },
  {
   "cell_type": "code",
   "execution_count": null,
   "metadata": {},
   "outputs": [],
   "source": [
    "print(\"Driver: {}/{}\".format(ds.GetDriver().ShortName, ds.GetDriver().LongName))\n",
    "print(\"Size is {} x {} x {}\".format(ds.RasterXSize,\n",
    "                                    ds.RasterYSize,\n",
    "                                    ds.RasterCount))\n",
    "print(\"Projection is {}\".format(ds.GetProjection()))"
   ]
  },
  {
   "cell_type": "code",
   "execution_count": null,
   "metadata": {},
   "outputs": [],
   "source": [
    "# 讀取特定band的資料\n",
    "bands = ds.GetRasterBand(1)\n",
    "print(f\"Band Type = {gdal.GetDataTypeName(bands.DataType)}\")\n",
    "\n",
    "# 抓取特定band的最大最小值\n",
    "min_value = bands.GetMinimum()\n",
    "max_value = bands.GetMaximum()\n",
    "if not min_value or not max_value:\n",
    "    (min_value, max_value) = bands.ComputeRasterMinMax(True)\n",
    "print(\"Min={:.3f}, Max={:.3f}\".format(min_value, max_value))\n",
    "\n",
    "# 抓取特定band的 no data value\n",
    "no_data_value = bands.GetNoDataValue()\n",
    "print(\"No data value is : {}\".format(no_data_value))"
   ]
  },
  {
   "cell_type": "markdown",
   "metadata": {},
   "source": [
    "## Get array in band"
   ]
  },
  {
   "cell_type": "code",
   "execution_count": null,
   "metadata": {},
   "outputs": [],
   "source": [
    "arr = bands.ReadAsArray(xoff=0, yoff=0,)\n",
    "arr = np.where(arr==no_data_value, np.nan, arr)\n",
    "arr.shape"
   ]
  },
  {
   "cell_type": "code",
   "execution_count": null,
   "metadata": {},
   "outputs": [],
   "source": [
    "plt.figure(figsize=(8, 8))\n",
    "plt.imshow(arr)\n",
    "plt.colorbar()"
   ]
  },
  {
   "cell_type": "markdown",
   "metadata": {},
   "source": [
    "# Dem processing"
   ]
  },
  {
   "cell_type": "code",
   "execution_count": null,
   "metadata": {},
   "outputs": [],
   "source": [
    " def hillshade(array, azimuth, angle_altitude):\n",
    "\n",
    "    # 取自: http://geoexamples.blogspot.com.br/2014/03/shaded-relief-images-using-gdal-python.html\n",
    "\n",
    "    x, y = np.gradient(array)\n",
    "    slope = np.pi/2. - np.arctan(np.sqrt(x*x + y*y))\n",
    "    aspect = np.arctan2(-x, y)\n",
    "    azimuth = azimuth*np.pi / 180.\n",
    "    altitude = angle_altitude*np.pi / 180.\n",
    "\n",
    "\n",
    "    shade = np.sin(altitude) * np.sin(slope)  + np.cos(altitude) * np.cos(slope)   * np.cos(azimuth - aspect)\n",
    "    return 255*(shade + 1)/2"
   ]
  },
  {
   "cell_type": "markdown",
   "metadata": {},
   "source": [
    "![i](https://upload.wikimedia.org/wikipedia/commons/f/f7/Azimuth-Altitude_schematic.svg)"
   ]
  },
  {
   "cell_type": "code",
   "execution_count": null,
   "metadata": {},
   "outputs": [],
   "source": [
    "plt.figure(figsize=(8, 8))\n",
    "plt.imshow(hillshade(arr, 30, 30))"
   ]
  },
  {
   "cell_type": "markdown",
   "metadata": {},
   "source": [
    "# Saved tif"
   ]
  },
  {
   "cell_type": "code",
   "execution_count": null,
   "metadata": {},
   "outputs": [],
   "source": [
    "dst_rst_path = os.path.join('output', 'hillshade.tif')\n",
    "ref_cols = ds.RasterXSize\n",
    "ref_rows = ds.RasterYSize\n",
    "ref_bands = ds.RasterCount\n",
    "G_type = ds.GetRasterBand(1).DataType\n",
    "\n",
    "# 找出原本DEM的driver\n",
    "driver = ds.GetDriver()\n",
    "\n",
    "# 以原本DEM的相關資料創建新的 ds\n",
    "out_ds = driver.Create(dst_rst_path, ref_cols, ref_rows, ref_bands, gdal.GDT_Float32)\n",
    "\n",
    "# 設定output ds的相關空間資訊\n",
    "out_ds.SetGeoTransform(ds.GetGeoTransform())\n",
    "out_ds.SetProjection(ds.GetProjection())\n",
    "\n",
    "# 從output ds的band並寫入numpy網格資料\n",
    "out_band = out_ds.GetRasterBand(1)\n",
    "out_band.SetNoDataValue(-9999.)\n",
    "\n",
    "out_band.WriteArray(hillshade(arr, 30, 30))\n",
    "out_band.FlushCache()\n",
    "out_ds = None"
   ]
  },
  {
   "cell_type": "code",
   "execution_count": null,
   "metadata": {},
   "outputs": [],
   "source": [
    "out_ds = gdal.Open('output/hillshade.tif')\n",
    "h_arr = out_ds.GetRasterBand(1).ReadAsArray(xoff=0, yoff=0,)\n",
    "plt.imshow(np.where(h_arr==-9999, np.nan, h_arr))\n",
    "out_ds = None"
   ]
  },
  {
   "cell_type": "markdown",
   "metadata": {},
   "source": [
    "# Demo"
   ]
  },
  {
   "cell_type": "code",
   "execution_count": null,
   "metadata": {},
   "outputs": [],
   "source": [
    "satellite_list = ['20190327']\n",
    "use_bands = ['B04', 'B08']"
   ]
  },
  {
   "cell_type": "code",
   "execution_count": null,
   "metadata": {},
   "outputs": [],
   "source": [
    "satellite_imgs = {\n",
    "    d:{i.split(\"_\")[-1][:3]:os.path.join(\"data\", d, i) \n",
    "       for i in  os.listdir(os.path.join(\"data\", d)) if i.split(\".\")[-1] == 'tif' and i.split(\"_\")[-1][:3] in use_bands} \n",
    "    for d in satellite_list\n",
    "}"
   ]
  },
  {
   "cell_type": "code",
   "execution_count": null,
   "metadata": {},
   "outputs": [],
   "source": [
    "satellite_imgs"
   ]
  },
  {
   "cell_type": "code",
   "execution_count": null,
   "metadata": {},
   "outputs": [],
   "source": [
    "class RasterExtractor():\n",
    "    '''\n",
    "    Read and parse raster files\n",
    "    raster_path(str): the path of the raster file\n",
    "        <input>\n",
    "    '''\n",
    "    def __init__(self, raster_path):\n",
    "        self.raster = gdal.Open(raster_path)\n",
    "        self.geotransform = self.raster.GetGeoTransform()\n",
    "        self.band = self.raster.GetRasterBand(1)\n",
    "    \n",
    "    def get_info(self):\n",
    "        '''\n",
    "        Get the information of the raster file. Including Driver, \n",
    "        raster size, Projection, Origin, the Min and Max values, No data value...etc\n",
    "        '''\n",
    "        print(\"Driver: {}/{}\".format(self.raster.GetDriver().ShortName,\n",
    "                                     self.raster.GetDriver().LongName))\n",
    "        print(\"Size is {} x {} x {}\".format(self.raster.RasterXSize,\n",
    "                                            self.raster.RasterYSize,\n",
    "                                            self.raster.RasterCount))\n",
    "        print(\"Projection is {}\".format(self.raster.GetProjection()))\n",
    "\n",
    "        if self.geotransform:\n",
    "            print(f\"Origin = ({self.geotransform[0]}, {self.geotransform[3]})\")\n",
    "            print(f\"Pixel Size = ({self.geotransform[1]}, {self.geotransform[5]})\")\n",
    "\n",
    "        print(f\"Band Type={gdal.GetDataTypeName(self.band.DataType)}\")\n",
    "        min_value = self.band.GetMinimum()\n",
    "        max_value = self.band.GetMaximum()\n",
    "        if not min_value or not max_value:\n",
    "            (min_value, max_value) = self.band.ComputeRasterMinMax(True)\n",
    "        print(\"Min={:.3f}, Max={:.3f}\".format(min_value, max_value))\n",
    "        if self.band.GetOverviewCount() > 0:\n",
    "            print(\"Band has {} overviews\".format(self.band.GetOverviewCount()))\n",
    "        if self.band.GetRasterColorTable():\n",
    "            print(\"Band has a color table with {} entries\".format(self.band.GetRasterColorTable().GetCount()))\n",
    "        no_data_value = self.band.GetNoDataValue()\n",
    "        print(\"No data value is : {}\".format(no_data_value))\n",
    "    \n",
    "    def get_array(self):\n",
    "        ''''''\n",
    "        no_data_value = self.band.GetNoDataValue()\n",
    "        arr = self.band.ReadAsArray(xoff=0, yoff=0,)\n",
    "        arr = np.where(arr == no_data_value, np.nan, arr)\n",
    "        return arr\n",
    "\n",
    "def NDVI(band_4, band_8):\n",
    "    molecule = band_8 - band_4\n",
    "    denominator = band_8 + band_4\n",
    "    return molecule / denominator\n",
    "\n",
    "def array2raster(dst_rst_path, ref_rst_path, array, nodata_value=-9999):\n",
    "    ref_rst_ds = gdal.Open(ref_rst_path)\n",
    "    ref_band = ref_rst_ds.GetRasterBand(1)\n",
    "    ref_rows = ref_rst_ds.RasterYSize\n",
    "    ref_cols = ref_rst_ds.RasterXSize\n",
    "    driver = ref_rst_ds.GetDriver()\n",
    "    outRaster = driver.Create(dst_rst_path, ref_cols, ref_rows, 1, gdal.GDT_Float32)\n",
    "    outRaster.SetGeoTransform(ref_rst_ds.GetGeoTransform())\n",
    "    outband = outRaster.GetRasterBand(1)\n",
    "    outband.SetNoDataValue(nodata_value)\n",
    "    outband.WriteArray(array)\n",
    "    # outRasterSRS = osr.SpatialReference()\n",
    "    # outRasterSRS.ImportFromEPSG(4326)\n",
    "    outRaster.SetProjection(ref_rst_ds.GetProjection())\n",
    "    outband.FlushCache()\n",
    "    outRaster = None"
   ]
  },
  {
   "cell_type": "code",
   "execution_count": null,
   "metadata": {},
   "outputs": [],
   "source": [
    "RasterExtractor(satellite_imgs['20190327']['B04']).get_info()\n",
    "plt.figure(figsize=(8, 8))\n",
    "plt.imshow(RasterExtractor(satellite_imgs['20190327']['B04']).get_array())\n",
    "plt.colorbar()"
   ]
  },
  {
   "cell_type": "code",
   "execution_count": null,
   "metadata": {},
   "outputs": [],
   "source": [
    "RasterExtractor(satellite_imgs['20190327']['B08']).get_info()\n",
    "plt.figure(figsize=(8, 8))\n",
    "plt.imshow(RasterExtractor(satellite_imgs['20190327']['B08']).get_array())\n",
    "plt.colorbar()"
   ]
  },
  {
   "cell_type": "code",
   "execution_count": null,
   "metadata": {},
   "outputs": [],
   "source": [
    "# 用B04、B08資料算出NDVI\n",
    "NDVI_arr = NDVI(RasterExtractor(satellite_imgs['20190327']['B04']).get_array(), \n",
    "                RasterExtractor(satellite_imgs['20190327']['B08']).get_array())\n",
    "\n",
    "plt.figure(figsize=(8, 8))\n",
    "plt.imshow(NDVI_arr)\n",
    "plt.colorbar()"
   ]
  },
  {
   "cell_type": "code",
   "execution_count": null,
   "metadata": {},
   "outputs": [],
   "source": [
    "# 把算出來的NDVI存成tiff檔\n",
    "dst_path = os.path.join('output', 'ndvi_20190327.tif')\n",
    "ref_path = os.path.join('data', '20190327', 'T50QRM_20190327T022551_B04.tif')\n",
    "\n",
    "array2raster(dst_path, ref_path, NDVI_arr)"
   ]
  },
  {
   "cell_type": "code",
   "execution_count": null,
   "metadata": {},
   "outputs": [],
   "source": []
  }
 ],
 "metadata": {
  "kernelspec": {
   "display_name": "Python 3",
   "language": "python",
   "name": "python3"
  },
  "language_info": {
   "codemirror_mode": {
    "name": "ipython",
    "version": 3
   },
   "file_extension": ".py",
   "mimetype": "text/x-python",
   "name": "python",
   "nbconvert_exporter": "python",
   "pygments_lexer": "ipython3",
   "version": "3.6.10"
  }
 },
 "nbformat": 4,
 "nbformat_minor": 4
}
