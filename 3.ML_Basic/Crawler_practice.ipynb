{
 "cells": [
  {
   "cell_type": "code",
   "execution_count": null,
   "metadata": {},
   "outputs": [],
   "source": [
    "import numpy as np\n",
    "import pandas as pd\n",
    "import matplotlib.pyplot as plt\n",
    "\n",
    "import datetime\n",
    "import os, gc\n",
    "\n",
    "import requests, urllib\n",
    "from bs4 import BeautifulSoup"
   ]
  },
  {
   "cell_type": "markdown",
   "metadata": {},
   "source": [
    "# Crawl data\n",
    "[觀測資料查詢系統](https://e-service.cwb.gov.tw/HistoryDataQuery/index.jsp)\n",
    "## 用BeautifulSoup解析html爬取資料"
   ]
  },
  {
   "cell_type": "code",
   "execution_count": null,
   "metadata": {},
   "outputs": [],
   "source": [
    "url = 'https://e-service.cwb.gov.tw/HistoryDataQuery/DayDataController.do?command=viewMain&station=466920&stname=%25E8%2587%25BA%25E5%258C%2597&datepicker=2020-08-08'\n",
    "response = requests.get(url)"
   ]
  },
  {
   "cell_type": "code",
   "execution_count": null,
   "metadata": {},
   "outputs": [],
   "source": [
    "soup = BeautifulSoup(response.text)"
   ]
  },
  {
   "cell_type": "code",
   "execution_count": null,
   "metadata": {},
   "outputs": [],
   "source": [
    "soup"
   ]
  },
  {
   "cell_type": "code",
   "execution_count": null,
   "metadata": {
    "scrolled": false
   },
   "outputs": [],
   "source": [
    "soup.select('table#MyTable tr.second_tr')[0].select('th')"
   ]
  },
  {
   "cell_type": "code",
   "execution_count": null,
   "metadata": {},
   "outputs": [],
   "source": [
    "t_name = soup.select('table#MyTable tr.second_tr')[0].select('th')\n",
    "for i, td in enumerate(soup.select('table#MyTable')[0].select('tr')[3].select('td')):\n",
    "    print(f\"{t_name[i].text} : {td.text}\")"
   ]
  },
  {
   "cell_type": "code",
   "execution_count": null,
   "metadata": {},
   "outputs": [],
   "source": [
    "daily_data = pd.DataFrame(columns=[i.text for i in t_name])\n",
    "\n",
    "for i, hr in enumerate(range(3, 27)):\n",
    "    hr_data = soup.select('table#MyTable')[0].select('tr')[hr].select('td')\n",
    "    daily_data.loc[i] = [i.text for i in hr_data]"
   ]
  },
  {
   "cell_type": "code",
   "execution_count": null,
   "metadata": {
    "scrolled": true
   },
   "outputs": [],
   "source": [
    "daily_data"
   ]
  },
  {
   "cell_type": "markdown",
   "metadata": {},
   "source": [
    "## 用pandas爬取html表格資料"
   ]
  },
  {
   "cell_type": "code",
   "execution_count": null,
   "metadata": {},
   "outputs": [],
   "source": [
    "source_url = \"https://e-service.cwb.gov.tw/HistoryDataQuery/DayDataController.do?command=viewMain&station=466920&stname=%25E8%2587%25BA%25E5%258C%2597&datepicker=\"\n",
    "date = '2020-08-08'\n",
    "url = source_url + date"
   ]
  },
  {
   "cell_type": "code",
   "execution_count": null,
   "metadata": {},
   "outputs": [],
   "source": [
    "daily_data = pd.read_html(requests.get(url).text, encoding='utf-8')"
   ]
  },
  {
   "cell_type": "code",
   "execution_count": null,
   "metadata": {},
   "outputs": [],
   "source": [
    "daily_data[0]"
   ]
  },
  {
   "cell_type": "code",
   "execution_count": null,
   "metadata": {},
   "outputs": [],
   "source": [
    "daily_data = daily_data[1]"
   ]
  },
  {
   "cell_type": "code",
   "execution_count": null,
   "metadata": {
    "scrolled": true
   },
   "outputs": [],
   "source": [
    "daily_data"
   ]
  },
  {
   "cell_type": "code",
   "execution_count": null,
   "metadata": {},
   "outputs": [],
   "source": [
    "# daily_data.columns = daily_data.loc[2].values\n",
    "daily_data.columns = [i[-1] for i in daily_data.columns.values]"
   ]
  },
  {
   "cell_type": "code",
   "execution_count": null,
   "metadata": {
    "scrolled": true
   },
   "outputs": [],
   "source": [
    "daily_data"
   ]
  },
  {
   "cell_type": "code",
   "execution_count": null,
   "metadata": {
    "scrolled": true
   },
   "outputs": [],
   "source": [
    "daily_data = daily_data.loc[3:, :]"
   ]
  },
  {
   "cell_type": "code",
   "execution_count": null,
   "metadata": {
    "scrolled": true
   },
   "outputs": [],
   "source": [
    "daily_data"
   ]
  },
  {
   "cell_type": "code",
   "execution_count": null,
   "metadata": {},
   "outputs": [],
   "source": [
    "def convert_time(x):\n",
    "    return datetime.datetime(int(date.split('-')[0]), int(date.split('-')[1]), int(date.split('-')[2]), int(x)-1)\n",
    "\n",
    "date = '2020-08-08'\n",
    "convert_time('01')"
   ]
  },
  {
   "cell_type": "code",
   "execution_count": null,
   "metadata": {},
   "outputs": [],
   "source": [
    "daily_data['ObsTime'] = daily_data['ObsTime'].apply(convert_time)"
   ]
  },
  {
   "cell_type": "code",
   "execution_count": null,
   "metadata": {
    "scrolled": true
   },
   "outputs": [],
   "source": [
    "daily_data"
   ]
  },
  {
   "cell_type": "code",
   "execution_count": null,
   "metadata": {},
   "outputs": [],
   "source": [
    "daily_data.set_index('ObsTime')['Temperature'].astype(float).plot()"
   ]
  },
  {
   "cell_type": "markdown",
   "metadata": {},
   "source": [
    "## 爬取多時間段的氣象觀測資料至pandas"
   ]
  },
  {
   "cell_type": "code",
   "execution_count": null,
   "metadata": {},
   "outputs": [],
   "source": [
    "def get_between_day(date_start, date_end):\n",
    "    date_list = []\n",
    "    date_start = datetime.datetime.strptime(date_start, \"%Y-%m-%d\")\n",
    "    date_end = datetime.datetime.strptime(date_end, \"%Y-%m-%d\")\n",
    "    while date_start <= date_end:\n",
    "        date_str = date_start.strftime(\"%Y-%m-%d\")\n",
    "        date_list.append(date_str)\n",
    "        date_start += datetime.timedelta(days=1)\n",
    "    return date_list"
   ]
  },
  {
   "cell_type": "code",
   "execution_count": null,
   "metadata": {},
   "outputs": [],
   "source": [
    "source_url = \"https://e-service.cwb.gov.tw/HistoryDataQuery/DayDataController.do?command=viewMain&station=466920&stname=%25E8%2587%25BA%25E5%258C%2597&datepicker=\"\n",
    "date_list = get_between_day('2020-08-01', '2020-08-08')\n",
    "\n",
    "codis_df_all = pd.DataFrame()\n",
    "for date in date_list:\n",
    "    url = source_url + date\n",
    "    codis_df_temp = pd.read_html(requests.get(url).text, encoding='utf-8')[1]\n",
    "    codis_df_temp.columns = codis_df_temp.loc[2].values\n",
    "    codis_df_temp = codis_df_temp.loc[3:, :]\n",
    "    # 把原本1~24的時間欄位變成 datetime 格式 > year, month, day, hour\n",
    "    codis_df_temp['ObsTime'] = codis_df_temp['ObsTime'].apply(convert_time)\n",
    "    codis_df_all = pd.concat([codis_df_all, codis_df_temp], axis=0)\n",
    "    \n",
    "codis_df_all['ObsTime'] = codis_df_all['ObsTime'] + datetime.timedelta(hours=1)"
   ]
  },
  {
   "cell_type": "code",
   "execution_count": null,
   "metadata": {
    "scrolled": false
   },
   "outputs": [],
   "source": [
    "codis_df_all.set_index('ObsTime')['Temperature'].astype(float).plot()"
   ]
  },
  {
   "cell_type": "code",
   "execution_count": null,
   "metadata": {},
   "outputs": [],
   "source": [
    "source_url = \"https://e-service.cwb.gov.tw/HistoryDataQuery/DayDataController.do?command=viewMain&station=466920&stname=%25E8%2587%25BA%25E5%258C%2597&datepicker=\"\n",
    "date_list = get_between_day('2015-01-01', '2015-12-31')\n",
    "\n",
    "codis_df_all = pd.DataFrame()\n",
    "for date in date_list:\n",
    "    url = source_url + date\n",
    "    codis_df_temp = pd.read_html(requests.get(url).text, encoding='utf-8')[1]\n",
    "    codis_df_temp.columns = codis_df_temp.loc[2].values\n",
    "    codis_df_temp = codis_df_temp.loc[3:, :]\n",
    "    # 把原本1~24的時間欄位變成 datetime 格式 > year, month, day, hour\n",
    "    codis_df_temp['ObsTime'] = codis_df_temp['ObsTime'].apply(convert_time)\n",
    "    codis_df_temp = codis_df_temp[['ObsTime', 'StnPres', 'Temperature', 'RH', 'WS', 'WD', 'Precp']]\n",
    "    codis_df_all = pd.concat([codis_df_all, codis_df_temp], axis=0)\n",
    "    \n",
    "codis_df_all['ObsTime'] = codis_df_all['ObsTime'] + datetime.timedelta(hours=1)\n",
    "codis_df_all.to_csv(f'data/codis_{date[:4]}.csv', index=False)"
   ]
  },
  {
   "cell_type": "code",
   "execution_count": null,
   "metadata": {},
   "outputs": [],
   "source": []
  }
 ],
 "metadata": {
  "kernelspec": {
   "display_name": "Python 3",
   "language": "python",
   "name": "python3"
  },
  "language_info": {
   "codemirror_mode": {
    "name": "ipython",
    "version": 3
   },
   "file_extension": ".py",
   "mimetype": "text/x-python",
   "name": "python",
   "nbconvert_exporter": "python",
   "pygments_lexer": "ipython3",
   "version": "3.6.10"
  }
 },
 "nbformat": 4,
 "nbformat_minor": 2
}
