{
 "cells": [
  {
   "cell_type": "markdown",
   "metadata": {},
   "source": [
    "# Import module"
   ]
  },
  {
   "cell_type": "code",
   "execution_count": null,
   "metadata": {},
   "outputs": [],
   "source": [
    "import numpy as np\n",
    "import pandas as pd\n",
    "import matplotlib.pyplot as plt\n",
    "\n",
    "import datetime\n",
    "import os, gc"
   ]
  },
  {
   "cell_type": "markdown",
   "metadata": {},
   "source": [
    "# Load data"
   ]
  },
  {
   "cell_type": "code",
   "execution_count": null,
   "metadata": {},
   "outputs": [],
   "source": [
    "codis_path = sorted([os.path.join('data', i) for i in os.listdir('data') if i.startswith('codis')])\n",
    "codis_path"
   ]
  },
  {
   "cell_type": "code",
   "execution_count": null,
   "metadata": {},
   "outputs": [],
   "source": [
    "codis_all = pd.DataFrame()\n",
    "for path in codis_path:\n",
    "    tmp_df = pd.read_csv(path, parse_dates=['ObsTime'])\n",
    "    codis_all = pd.concat([codis_all, tmp_df], axis=0)"
   ]
  },
  {
   "cell_type": "code",
   "execution_count": null,
   "metadata": {},
   "outputs": [],
   "source": [
    "for st in [i for i in codis_all.columns if i != 'ObsTime']:\n",
    "    codis_all[st] = pd.to_numeric(codis_all[st], errors='coerce')"
   ]
  },
  {
   "cell_type": "code",
   "execution_count": null,
   "metadata": {},
   "outputs": [],
   "source": [
    "codis_all.head()"
   ]
  },
  {
   "cell_type": "code",
   "execution_count": null,
   "metadata": {},
   "outputs": [],
   "source": [
    "codis_all.shape"
   ]
  },
  {
   "cell_type": "markdown",
   "metadata": {},
   "source": [
    "# EDA"
   ]
  },
  {
   "cell_type": "code",
   "execution_count": null,
   "metadata": {},
   "outputs": [],
   "source": [
    "print(f\"Data from {codis_all['ObsTime'].min()} to {codis_all['ObsTime'].max()}\")"
   ]
  },
  {
   "cell_type": "code",
   "execution_count": null,
   "metadata": {},
   "outputs": [],
   "source": [
    "codis_all.describe()"
   ]
  },
  {
   "cell_type": "code",
   "execution_count": null,
   "metadata": {},
   "outputs": [],
   "source": [
    "codis_all.set_index('ObsTime')['Temperature'].plot()"
   ]
  },
  {
   "cell_type": "code",
   "execution_count": null,
   "metadata": {},
   "outputs": [],
   "source": [
    "codis_all.set_index('ObsTime').plot(subplots=True, figsize=(14, 18))\n",
    "plt.show()"
   ]
  },
  {
   "cell_type": "code",
   "execution_count": null,
   "metadata": {},
   "outputs": [],
   "source": [
    "codis_all.corr().sort_values('Temperature', ascending=False)['Temperature']"
   ]
  },
  {
   "cell_type": "code",
   "execution_count": null,
   "metadata": {},
   "outputs": [],
   "source": [
    "codis_all.set_index('ObsTime')[['Temperature', 'StnPres', 'RH', 'WD']].plot(subplots=True, figsize=(14, 12))\n",
    "plt.show()"
   ]
  },
  {
   "cell_type": "markdown",
   "metadata": {},
   "source": [
    "# Data split"
   ]
  },
  {
   "cell_type": "code",
   "execution_count": null,
   "metadata": {},
   "outputs": [],
   "source": [
    "trn_data = codis_all.loc[codis_all['ObsTime']<datetime.datetime(2019, 1, 1, 0), \n",
    "                       ['Temperature', 'StnPres', 'RH', 'WD']].reset_index(drop=True)\n",
    "\n",
    "val_data = codis_all.loc[(codis_all['ObsTime']>=datetime.datetime(2019, 1, 1, 0))&(codis_all['ObsTime']<datetime.datetime(2020, 1, 1, 0)), \n",
    "                       ['Temperature', 'StnPres', 'RH', 'WD']].reset_index(drop=True)\n",
    "\n",
    "tst_data = codis_all.loc[codis_all['ObsTime']>=datetime.datetime(2020, 1, 1, 0), \n",
    "                       ['Temperature', 'StnPres', 'RH', 'WD']].reset_index(drop=True)\n",
    "\n",
    "trn_data.shape, val_data.shape, tst_data.shape"
   ]
  },
  {
   "cell_type": "markdown",
   "metadata": {},
   "source": [
    "# Normalization"
   ]
  },
  {
   "cell_type": "code",
   "execution_count": null,
   "metadata": {},
   "outputs": [],
   "source": [
    "train_mean = np.nanmean(trn_data, axis=0)\n",
    "train_std = np.nanstd(trn_data, axis=0)"
   ]
  },
  {
   "cell_type": "code",
   "execution_count": null,
   "metadata": {},
   "outputs": [],
   "source": [
    "train_mean, train_std"
   ]
  },
  {
   "cell_type": "code",
   "execution_count": null,
   "metadata": {},
   "outputs": [],
   "source": [
    "trn_data = (trn_data - train_mean) / train_std\n",
    "val_data = (val_data - train_mean) / train_std\n",
    "tst_data = (tst_data - train_mean) / train_std"
   ]
  },
  {
   "cell_type": "code",
   "execution_count": null,
   "metadata": {},
   "outputs": [],
   "source": [
    "np.nanmax(trn_data, axis=0), np.nanmin(trn_data, axis=0) "
   ]
  },
  {
   "cell_type": "code",
   "execution_count": null,
   "metadata": {},
   "outputs": [],
   "source": [
    "np.nanmax(val_data, axis=0), np.nanmin(val_data, axis=0) "
   ]
  },
  {
   "cell_type": "code",
   "execution_count": null,
   "metadata": {},
   "outputs": [],
   "source": [
    "np.nanmax(tst_data, axis=0), np.nanmin(tst_data, axis=0) "
   ]
  },
  {
   "cell_type": "markdown",
   "metadata": {},
   "source": [
    "# FE"
   ]
  },
  {
   "cell_type": "code",
   "execution_count": null,
   "metadata": {},
   "outputs": [],
   "source": [
    "def data_generator(dataset, start_index, end_index, history_size, target_size):\n",
    "    data = []\n",
    "    labels = []\n",
    "    \n",
    "    start_index = start_index + history_size\n",
    "    if end_index is None:\n",
    "        end_index = len(dataset) - target_size\n",
    "    \n",
    "    for i in range(start_index, end_index):\n",
    "        indices = range(i-history_size, i)\n",
    "        \n",
    "        feat = dataset[indices, :]\n",
    "        label = dataset[i+target_size, 0]\n",
    "        if np.isnan(label):\n",
    "            continue\n",
    "        if np.where(np.isnan(feat))[0].shape[0] > (feat.reshape(-1).shape[0]*1//3):\n",
    "            continue\n",
    "            \n",
    "        feat = pd.DataFrame(feat).interpolate(limit_direction='both').values\n",
    "        feat = np.where(np.isnan(feat), 0, feat)\n",
    "        data.append(feat.reshape(-1))\n",
    "        labels.append(label)\n",
    "    return np.array(data), np.array(labels)\n",
    "\n",
    "def create_time_steps(length):\n",
    "    return list(range(-length, 0))\n",
    "\n",
    "def show_plot(plot_data, delta, title):\n",
    "    labels = ['History Temperature', 'History StnPres', 'History RH', 'History WD', 'True Future', 'Model Prediction']\n",
    "    marker = ['.-', '.-', '.-', '.-', 'rx', 'go']\n",
    "    time_steps = create_time_steps(plot_data[0].shape[0])\n",
    "    if delta:\n",
    "        future = delta\n",
    "    else:\n",
    "        future = 0\n",
    "    \n",
    "    plt.title(title)\n",
    "    for i, x in enumerate(plot_data):\n",
    "        if i > 3:\n",
    "            plt.plot(future, plot_data[i], marker[i], markersize=8, label=labels[i])\n",
    "        else:\n",
    "            plt.plot(time_steps, plot_data[i], marker[i], label=labels[i])\n",
    "    plt.legend()\n",
    "    plt.xlim([time_steps[0], (future+8)])\n",
    "    plt.xlabel('Time-Step')\n",
    "    return plt"
   ]
  },
  {
   "cell_type": "code",
   "execution_count": null,
   "metadata": {},
   "outputs": [],
   "source": [
    "past_history = 72\n",
    "future_target = 24\n",
    "\n",
    "x_train, y_train = data_generator(trn_data.values, 0, None, past_history, future_target)\n",
    "x_valid, y_valid = data_generator(val_data.values, 0, None, past_history, future_target)\n",
    "x_test, y_test = data_generator(tst_data.values, 0, None, past_history, future_target)"
   ]
  },
  {
   "cell_type": "code",
   "execution_count": null,
   "metadata": {
    "scrolled": true
   },
   "outputs": [],
   "source": [
    "print('Train set data shape')\n",
    "print(x_train.shape, y_train.shape)\n",
    "print('Single window of past hidtory')\n",
    "print(x_train[0][-5:])\n",
    "print('Target AQI to predict')\n",
    "print(y_train[0])"
   ]
  },
  {
   "cell_type": "code",
   "execution_count": null,
   "metadata": {},
   "outputs": [],
   "source": [
    "print('Validation set data shape')\n",
    "print(x_valid.shape, y_valid.shape)\n",
    "print('Single window of past hidtory')\n",
    "print(x_valid[0][-5:])\n",
    "print('Target AQI to predict')\n",
    "print(y_valid[0])"
   ]
  },
  {
   "cell_type": "code",
   "execution_count": null,
   "metadata": {
    "scrolled": true
   },
   "outputs": [],
   "source": [
    "print('Test set data shape')\n",
    "print(x_test.shape, y_test.shape)\n",
    "print('Single window of past hidtory')\n",
    "print(x_test[0][-5:])\n",
    "print('Target AQI to predict')\n",
    "print(y_test[0])"
   ]
  },
  {
   "cell_type": "code",
   "execution_count": null,
   "metadata": {},
   "outputs": [],
   "source": [
    "plt.figure(figsize=(10, 5))\n",
    "show_plot([x_train[10][::4], x_train[10][1::4], x_train[10][2::4], x_train[10][3::4], y_train[10]], \n",
    "          future_target, 'Example train data')"
   ]
  },
  {
   "cell_type": "markdown",
   "metadata": {},
   "source": [
    "# Build models"
   ]
  },
  {
   "cell_type": "code",
   "execution_count": null,
   "metadata": {},
   "outputs": [],
   "source": [
    "from sklearn.metrics import mean_absolute_error, r2_score\n",
    "from sklearn.linear_model import LinearRegression\n",
    "from sklearn.svm import SVR\n",
    "from sklearn.ensemble import RandomForestRegressor, GradientBoostingRegressor\n",
    "\n",
    "import xgboost"
   ]
  },
  {
   "cell_type": "markdown",
   "metadata": {},
   "source": [
    "## Linear regression"
   ]
  },
  {
   "cell_type": "code",
   "execution_count": null,
   "metadata": {},
   "outputs": [],
   "source": [
    "linear_reg = LinearRegression()\n",
    "linear_reg.fit(x_train, y_train)\n",
    "y_lr = linear_reg.predict(x_test)"
   ]
  },
  {
   "cell_type": "code",
   "execution_count": null,
   "metadata": {},
   "outputs": [],
   "source": [
    "print(f'Linear regression mae : {mean_absolute_error(y_test, y_lr)}, r2 score : {r2_score(y_test, y_lr)}')\n",
    "\n",
    "rnd_idx = np.random.randint(x_test.shape[0], size=3)\n",
    "for x, y in zip(x_test[rnd_idx], y_test[rnd_idx]):\n",
    "    plt.figure(figsize = (10,3))\n",
    "    plt = show_plot([x[::4], x[1::4], x[2::4], x[3::4], y, linear_reg.predict(x.reshape(1, -1))], \n",
    "         future_target, 'Linear Regression prediction')"
   ]
  },
  {
   "cell_type": "markdown",
   "metadata": {},
   "source": [
    "## SVM"
   ]
  },
  {
   "cell_type": "code",
   "execution_count": null,
   "metadata": {},
   "outputs": [],
   "source": [
    "# %%time\n",
    "# svr = SVR('linear')\n",
    "# svr.fit(x_train, y_train)\n",
    "# y_svr = svr.predict(x_test)"
   ]
  },
  {
   "cell_type": "code",
   "execution_count": null,
   "metadata": {},
   "outputs": [],
   "source": [
    "# print(f'SVM mae : {mean_absolute_error(y_test, y_svr)}, r2 score : {r2_score(y_test, y_svr)}')\n",
    "\n",
    "# rnd_idx = np.random.randint(x_test.shape[0], size=3)\n",
    "# for x, y in zip(x_test[rnd_idx], y_test[rnd_idx]):\n",
    "#     plt.figure(figsize = (10,3))\n",
    "#     plt = show_plot([x[::4], x[1::4], x[2::4], x[3::4], y, svr.predict(x.reshape(1, -1))], \n",
    "#          future_target, 'SVM prediction')"
   ]
  },
  {
   "cell_type": "markdown",
   "metadata": {},
   "source": [
    "# Random forest"
   ]
  },
  {
   "cell_type": "code",
   "execution_count": null,
   "metadata": {},
   "outputs": [],
   "source": [
    "%%time\n",
    "rf = RandomForestRegressor(n_estimators=1000, max_depth=3, n_jobs=-1)\n",
    "rf.fit(x_train, y_train)\n",
    "y_rf = rf.predict(x_test)"
   ]
  },
  {
   "cell_type": "code",
   "execution_count": null,
   "metadata": {},
   "outputs": [],
   "source": [
    "print(f'RF mae : {mean_absolute_error(y_test, y_rf)}, r2 score : {r2_score(y_test, y_rf)}')\n",
    "\n",
    "rnd_idx = np.random.randint(x_test.shape[0], size=3)\n",
    "for x, y in zip(x_test[rnd_idx], y_test[rnd_idx]):\n",
    "    plt.figure(figsize = (10,3))\n",
    "    plt = show_plot([x[::4], x[1::4], x[2::4], x[3::4], y, rf.predict(x.reshape(1, -1))], \n",
    "         future_target, 'RF prediction')"
   ]
  },
  {
   "cell_type": "markdown",
   "metadata": {},
   "source": [
    "## Gradient Boost Tree"
   ]
  },
  {
   "cell_type": "code",
   "execution_count": null,
   "metadata": {
    "scrolled": true
   },
   "outputs": [],
   "source": [
    "%%time\n",
    "gb = GradientBoostingRegressor(learning_rate=0.02, \n",
    "                               n_estimators=1000,\n",
    "                               max_depth=3, \n",
    "                               verbose=1, \n",
    "                               validation_fraction=0.2, \n",
    "                               n_iter_no_change=10)\n",
    "gb.fit(x_train, y_train)\n",
    "y_gb = gb.predict(x_test)"
   ]
  },
  {
   "cell_type": "code",
   "execution_count": null,
   "metadata": {},
   "outputs": [],
   "source": [
    "print(f'GB mae : {mean_absolute_error(y_test, y_gb)}, r2 score : {r2_score(y_test, y_gb)}')\n",
    "\n",
    "rnd_idx = np.random.randint(x_test.shape[0], size=3)\n",
    "for x, y in zip(x_test[rnd_idx], y_test[rnd_idx]):\n",
    "    plt.figure(figsize = (10,3))\n",
    "    plt = show_plot([x[::4], x[1::4], x[2::4], x[3::4], y, gb.predict(x.reshape(1, -1))], \n",
    "         future_target, 'GB prediction')"
   ]
  },
  {
   "cell_type": "markdown",
   "metadata": {},
   "source": [
    "# XGB"
   ]
  },
  {
   "cell_type": "code",
   "execution_count": null,
   "metadata": {
    "scrolled": true
   },
   "outputs": [],
   "source": [
    "%%time\n",
    "xgb = xgboost.XGBRegressor(learning_rate=0.02, \n",
    "                               n_estimators = 1000,\n",
    "                               max_depth = 3, \n",
    "                               n_jobs = -1)\n",
    "xgb.fit(x_train, y_train, \n",
    "#         eval_set=[(x_train, y_train), (x_valid, y_valid)], \n",
    "        eval_metric=['mae'], \n",
    "#         early_stopping_rounds=800, \n",
    "        verbose=100)\n",
    "y_xgb = xgb.predict(x_test)"
   ]
  },
  {
   "cell_type": "code",
   "execution_count": null,
   "metadata": {},
   "outputs": [],
   "source": [
    "print(f'XGB mae : {mean_absolute_error(y_test, y_xgb)}, r2 score : {r2_score(y_test, y_xgb)}')\n",
    "\n",
    "rnd_idx = np.random.randint(x_test.shape[0], size=3)\n",
    "for x, y in zip(x_test[rnd_idx], y_test[rnd_idx]):\n",
    "    plt.figure(figsize = (10,3))\n",
    "    plt = show_plot([x[::4], x[1::4], x[2::4], x[3::4], y, xgb.predict(x.reshape(1, -1))], \n",
    "         future_target, 'XGB prediction')"
   ]
  },
  {
   "cell_type": "markdown",
   "metadata": {},
   "source": [
    "# Plot result"
   ]
  },
  {
   "cell_type": "code",
   "execution_count": null,
   "metadata": {},
   "outputs": [],
   "source": [
    "plt.figure(figsize=(15, 8))\n",
    "plt.plot(y_test*train_std[0]+train_mean[0], label='True Tem')\n",
    "plt.plot(y_lr*train_std[0]+train_mean[0], label='linear reg')\n",
    "plt.plot(y_rf*train_std[0]+train_mean[0], label='RF')\n",
    "plt.plot(y_gb*train_std[0]+train_mean[0], label='GB')\n",
    "plt.plot(y_xgb*train_std[0]+train_mean[0], label='XGB')\n",
    "plt.xlim(1500, 2000)\n",
    "plt.legend()"
   ]
  },
  {
   "cell_type": "code",
   "execution_count": null,
   "metadata": {},
   "outputs": [],
   "source": []
  }
 ],
 "metadata": {
  "kernelspec": {
   "display_name": "Python 3",
   "language": "python",
   "name": "python3"
  },
  "language_info": {
   "codemirror_mode": {
    "name": "ipython",
    "version": 3
   },
   "file_extension": ".py",
   "mimetype": "text/x-python",
   "name": "python",
   "nbconvert_exporter": "python",
   "pygments_lexer": "ipython3",
   "version": "3.6.10"
  }
 },
 "nbformat": 4,
 "nbformat_minor": 4
}
