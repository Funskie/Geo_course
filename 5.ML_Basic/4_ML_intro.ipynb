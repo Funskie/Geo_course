{
 "cells": [
  {
   "cell_type": "markdown",
   "metadata": {},
   "source": [
    "# Import module"
   ]
  },
  {
   "cell_type": "code",
   "execution_count": null,
   "metadata": {},
   "outputs": [],
   "source": [
    "import numpy as np\n",
    "import pandas as pd\n",
    "import matplotlib.pyplot as plt\n",
    "\n",
    "import geopandas as gpd\n",
    "from shapely.geometry import Point, Polygon\n",
    "\n",
    "import datetime\n",
    "import os, gc"
   ]
  },
  {
   "cell_type": "markdown",
   "metadata": {},
   "source": [
    "# Load data"
   ]
  },
  {
   "cell_type": "code",
   "execution_count": null,
   "metadata": {},
   "outputs": [],
   "source": [
    "epa_path = sorted([os.path.join('data', i) for i in os.listdir('data') if i.startswith('EPA_OD')])\n",
    "epa_path"
   ]
  },
  {
   "cell_type": "code",
   "execution_count": null,
   "metadata": {},
   "outputs": [],
   "source": [
    "EPA_all = pd.DataFrame()\n",
    "for path in epa_path:\n",
    "    tmp_df = pd.read_csv(path, parse_dates=['PublishTime'])\n",
    "    EPA_all = pd.concat([EPA_all, tmp_df], axis=0)"
   ]
  },
  {
   "cell_type": "code",
   "execution_count": null,
   "metadata": {},
   "outputs": [],
   "source": [
    "EPA_all.head()"
   ]
  },
  {
   "cell_type": "code",
   "execution_count": null,
   "metadata": {},
   "outputs": [],
   "source": [
    "EPA_all.shape"
   ]
  },
  {
   "cell_type": "markdown",
   "metadata": {},
   "source": [
    "# EDA"
   ]
  },
  {
   "cell_type": "code",
   "execution_count": null,
   "metadata": {},
   "outputs": [],
   "source": [
    "station_info = pd.read_excel('data/station_info.xlsx')\n",
    "station_info.head()"
   ]
  },
  {
   "cell_type": "code",
   "execution_count": null,
   "metadata": {},
   "outputs": [],
   "source": [
    "station_info.rename(columns={'SITENAME':'SiteName'}, inplace=True)\n",
    "EPA_all = EPA_all.merge(station_info[['SiteName','station_id' , 'lon', 'lat']], on='SiteName', how='left')"
   ]
  },
  {
   "cell_type": "code",
   "execution_count": null,
   "metadata": {},
   "outputs": [],
   "source": [
    "geom = [Point(x, y) for x, y in zip(EPA_all['lon'], EPA_all['lat'])]\n",
    "EPA_all = gpd.GeoDataFrame(EPA_all, geometry=geom, crs={'init':'epsg:4326'})"
   ]
  },
  {
   "cell_type": "code",
   "execution_count": null,
   "metadata": {},
   "outputs": [],
   "source": [
    "EPA_all[EPA_all['PublishTime']==datetime.datetime(2018,12,1,12)].plot('AQI', \n",
    "                                                                             figsize=(10, 10), \n",
    "                                                                             legend=True, \n",
    "                                                                             cmap='cool', \n",
    "                                                                             scheme='quantiles', k=5\n",
    "                                                                            )"
   ]
  },
  {
   "cell_type": "code",
   "execution_count": null,
   "metadata": {},
   "outputs": [],
   "source": [
    "EPA_all['SiteName'].unique()"
   ]
  },
  {
   "cell_type": "code",
   "execution_count": null,
   "metadata": {},
   "outputs": [],
   "source": [
    "AQI_df = EPA_all[(EPA_all['SiteName']=='古亭')&(EPA_all['PublishTime']>datetime.datetime(2018,5,31))]"
   ]
  },
  {
   "cell_type": "code",
   "execution_count": null,
   "metadata": {},
   "outputs": [],
   "source": [
    "min_ts = AQI_df['PublishTime'].min()\n",
    "max_ts = AQI_df['PublishTime'].max()\n",
    "time_list = pd.date_range(min_ts, max_ts, freq='1H')\n",
    "\n",
    "data_df = pd.DataFrame(time_list, columns=['PublishTime'])\n",
    "data_df = data_df.merge(AQI_df, on='PublishTime', how='left')"
   ]
  },
  {
   "cell_type": "code",
   "execution_count": null,
   "metadata": {},
   "outputs": [],
   "source": [
    "data_df.shape"
   ]
  },
  {
   "cell_type": "code",
   "execution_count": null,
   "metadata": {},
   "outputs": [],
   "source": [
    "plt.figure(figsize=(10, 5))\n",
    "plt.plot(data_df.set_index('PublishTime')['AQI'])"
   ]
  },
  {
   "cell_type": "code",
   "execution_count": null,
   "metadata": {},
   "outputs": [],
   "source": [
    "data_df.corr().sort_values('AQI', ascending=False)['AQI']"
   ]
  },
  {
   "cell_type": "code",
   "execution_count": null,
   "metadata": {},
   "outputs": [],
   "source": [
    "data_df[['AQI', 'PM2.5', 'PM10', 'O3', 'CO']].plot(subplots=True, figsize=(10, 25))\n",
    "plt.show()"
   ]
  },
  {
   "cell_type": "markdown",
   "metadata": {},
   "source": [
    "# Data split"
   ]
  },
  {
   "cell_type": "code",
   "execution_count": null,
   "metadata": {},
   "outputs": [],
   "source": [
    "trn_data = data_df.loc[data_df['PublishTime']<datetime.datetime(2018, 12, 1, 0), \n",
    "                       ['AQI', 'PM2.5', 'PM10', 'O3', 'CO']].reset_index(drop=True)\n",
    "tst_data = data_df.loc[data_df['PublishTime']>=datetime.datetime(2018, 12, 1, 0), \n",
    "                       ['AQI', 'PM2.5', 'PM10', 'O3', 'CO']].reset_index(drop=True)\n",
    "\n",
    "trn_data.shape, tst_data.shape"
   ]
  },
  {
   "cell_type": "markdown",
   "metadata": {},
   "source": [
    "# Normalization"
   ]
  },
  {
   "cell_type": "code",
   "execution_count": null,
   "metadata": {},
   "outputs": [],
   "source": [
    "train_mean = np.nanmean(trn_data, axis=0)\n",
    "train_std = np.nanstd(trn_data, axis=0)"
   ]
  },
  {
   "cell_type": "code",
   "execution_count": null,
   "metadata": {},
   "outputs": [],
   "source": [
    "trn_data = (trn_data - train_mean) / train_std\n",
    "tst_data = (tst_data - train_mean) / train_std"
   ]
  },
  {
   "cell_type": "markdown",
   "metadata": {},
   "source": [
    "# FE"
   ]
  },
  {
   "cell_type": "code",
   "execution_count": null,
   "metadata": {},
   "outputs": [],
   "source": [
    "def data_generator(dataset, start_index, end_index, history_size, target_size):\n",
    "    data = []\n",
    "    labels = []\n",
    "    \n",
    "    start_index = start_index + history_size\n",
    "    if end_index is None:\n",
    "        end_index = len(dataset) - target_size\n",
    "    \n",
    "    for i in range(start_index, end_index):\n",
    "        indices = range(i-history_size, i)\n",
    "        \n",
    "        feat = dataset[indices, 1:]\n",
    "        label = dataset[i+target_size, 0]\n",
    "        if np.isnan(label):\n",
    "            continue\n",
    "        if np.where(np.isnan(feat))[0].shape[0] > (feat.reshape(-1).shape[0]*1//3):\n",
    "            continue\n",
    "            \n",
    "        feat = pd.DataFrame(feat).interpolate(limit_direction='both').values\n",
    "        feat = np.where(np.isnan(feat), -3, feat)\n",
    "        data.append(feat.reshape(-1))\n",
    "        labels.append(label)\n",
    "    return np.array(data), np.array(labels)\n",
    "\n",
    "def create_time_steps(length):\n",
    "    return list(range(-length, 0))\n",
    "\n",
    "def show_plot(plot_data, delta, title):\n",
    "    labels = ['History PM2.5', 'History PM10', 'History O3', 'History CO', 'True Future', 'Model Prediction']\n",
    "    marker = ['.-', '.-', '.-', '.-', 'rx', 'go']\n",
    "    time_steps = create_time_steps(plot_data[0].shape[0])\n",
    "    if delta:\n",
    "        future = delta\n",
    "    else:\n",
    "        future = 0\n",
    "    \n",
    "    plt.title(title)\n",
    "    for i, x in enumerate(plot_data):\n",
    "        if i > 3:\n",
    "            plt.plot(future, plot_data[i], marker[i], markersize=8, label=labels[i])\n",
    "        else:\n",
    "            plt.plot(time_steps, plot_data[i], marker[i], label=labels[i])\n",
    "    plt.legend()\n",
    "    plt.xlim([time_steps[0], (future+8)])\n",
    "    plt.xlabel('Time-Step')\n",
    "    return plt"
   ]
  },
  {
   "cell_type": "code",
   "execution_count": null,
   "metadata": {},
   "outputs": [],
   "source": [
    "past_history = 24\n",
    "future_target = 3\n",
    "\n",
    "x_train, y_train = data_generator(trn_data.values, 0, None, past_history, future_target)\n",
    "x_test, y_test = data_generator(tst_data.values, 0, None, past_history, future_target)"
   ]
  },
  {
   "cell_type": "code",
   "execution_count": null,
   "metadata": {},
   "outputs": [],
   "source": [
    "print('Train set data shape')\n",
    "print(x_train.shape, y_train.shape)\n",
    "print('Single window of past hidtory')\n",
    "print(x_train[0])\n",
    "print('Target AQI to predict')\n",
    "print(y_train[0])"
   ]
  },
  {
   "cell_type": "code",
   "execution_count": null,
   "metadata": {},
   "outputs": [],
   "source": [
    "print('Test set data shape')\n",
    "print(x_test.shape, y_test.shape)\n",
    "print('Single window of past hidtory')\n",
    "print(x_test[0])\n",
    "print('Target AQI to predict')\n",
    "print(y_test[0])"
   ]
  },
  {
   "cell_type": "code",
   "execution_count": null,
   "metadata": {},
   "outputs": [],
   "source": [
    "plt.figure(figsize=(10, 5))\n",
    "show_plot([x_train[10][::4], x_train[10][1::4], x_train[10][2::4], x_train[10][3::4], y_train[10]], \n",
    "          future_target, 'Example train data')"
   ]
  },
  {
   "cell_type": "markdown",
   "metadata": {},
   "source": [
    "# Build models"
   ]
  },
  {
   "cell_type": "code",
   "execution_count": null,
   "metadata": {},
   "outputs": [],
   "source": [
    "from sklearn.metrics import mean_absolute_error, r2_score\n",
    "from sklearn.linear_model import LinearRegression\n",
    "from sklearn.svm import SVR\n",
    "from sklearn.ensemble import RandomForestRegressor, GradientBoostingRegressor"
   ]
  },
  {
   "cell_type": "markdown",
   "metadata": {},
   "source": [
    "## Linear regression"
   ]
  },
  {
   "cell_type": "code",
   "execution_count": null,
   "metadata": {},
   "outputs": [],
   "source": [
    "linear_reg = LinearRegression()\n",
    "linear_reg.fit(x_train, y_train)\n",
    "y_lr = linear_reg.predict(x_test)"
   ]
  },
  {
   "cell_type": "code",
   "execution_count": null,
   "metadata": {},
   "outputs": [],
   "source": [
    "print(f'Linear regression mae : {mean_absolute_error(y_test, y_lr)}, r2 score : {r2_score(y_test, y_lr)}')\n",
    "\n",
    "rnd_idx = np.random.randint(x_test.shape[0], size=3)\n",
    "for x, y in zip(x_test[rnd_idx], y_test[rnd_idx]):\n",
    "    plt.figure(figsize = (10,3))\n",
    "    plt = show_plot([x[::4], x[1::4], x[2::4], x[3::4], y, linear_reg.predict(x.reshape(1, -1))], \n",
    "         future_target, 'Linear Regression prediction')"
   ]
  },
  {
   "cell_type": "markdown",
   "metadata": {},
   "source": [
    "## SVM"
   ]
  },
  {
   "cell_type": "code",
   "execution_count": null,
   "metadata": {},
   "outputs": [],
   "source": [
    "svr = SVR('linear')\n",
    "svr.fit(x_train, y_train)\n",
    "y_svr = svr.predict(x_test)"
   ]
  },
  {
   "cell_type": "code",
   "execution_count": null,
   "metadata": {},
   "outputs": [],
   "source": [
    "print(f'SVM mae : {mean_absolute_error(y_test, y_svr)}, r2 score : {r2_score(y_test, y_svr)}')\n",
    "\n",
    "rnd_idx = np.random.randint(x_test.shape[0], size=3)\n",
    "for x, y in zip(x_test[rnd_idx], y_test[rnd_idx]):\n",
    "    plt.figure(figsize = (10,3))\n",
    "    plt = show_plot([x[::4], x[1::4], x[2::4], x[3::4], y, svr.predict(x.reshape(1, -1))], \n",
    "         future_target, 'SVM prediction')"
   ]
  },
  {
   "cell_type": "markdown",
   "metadata": {},
   "source": [
    "# Random forest"
   ]
  },
  {
   "cell_type": "code",
   "execution_count": null,
   "metadata": {},
   "outputs": [],
   "source": [
    "rf = RandomForestRegressor(n_estimators=300, max_depth=10)\n",
    "rf.fit(x_train, y_train)\n",
    "y_rf = rf.predict(x_test)"
   ]
  },
  {
   "cell_type": "code",
   "execution_count": null,
   "metadata": {},
   "outputs": [],
   "source": [
    "print(f'RF mae : {mean_absolute_error(y_test, y_rf)}, r2 score : {r2_score(y_test, y_rf)}')\n",
    "\n",
    "rnd_idx = np.random.randint(x_test.shape[0], size=3)\n",
    "for x, y in zip(x_test[rnd_idx], y_test[rnd_idx]):\n",
    "    plt.figure(figsize = (10,3))\n",
    "    plt = show_plot([x[::4], x[1::4], x[2::4], x[3::4], y, rf.predict(x.reshape(1, -1))], \n",
    "         future_target, 'RF prediction')"
   ]
  },
  {
   "cell_type": "markdown",
   "metadata": {},
   "source": [
    "## Gradient Boost Tree"
   ]
  },
  {
   "cell_type": "code",
   "execution_count": null,
   "metadata": {},
   "outputs": [],
   "source": [
    "gb = GradientBoostingRegressor(learning_rate=0.01, n_estimators=500, max_depth=5)\n",
    "gb.fit(x_train, y_train)\n",
    "y_gb = gb.predict(x_test)"
   ]
  },
  {
   "cell_type": "code",
   "execution_count": null,
   "metadata": {},
   "outputs": [],
   "source": [
    "print(f'GB mae : {mean_absolute_error(y_test, y_gb)}, r2 score : {r2_score(y_test, y_gb)}')\n",
    "\n",
    "rnd_idx = np.random.randint(x_test.shape[0], size=3)\n",
    "for x, y in zip(x_test[rnd_idx], y_test[rnd_idx]):\n",
    "    plt.figure(figsize = (10,3))\n",
    "    plt = show_plot([x[::4], x[1::4], x[2::4], x[3::4], y, rf.predict(x.reshape(1, -1))], \n",
    "         future_target, 'GB prediction')"
   ]
  },
  {
   "cell_type": "markdown",
   "metadata": {},
   "source": [
    "# Plot result"
   ]
  },
  {
   "cell_type": "code",
   "execution_count": null,
   "metadata": {},
   "outputs": [],
   "source": [
    "plt.figure(figsize=(15, 8))\n",
    "plt.plot(y_test*train_std[-1]+train_mean[-1], label='True AQI')\n",
    "plt.plot(y_lr*train_std[-1]+train_mean[-1], label='linear reg')\n",
    "plt.plot(y_svr*train_std[-1]+train_mean[-1], label='svr')\n",
    "plt.plot(y_rf*train_std[-1]+train_mean[-1], label='RF')\n",
    "plt.plot(y_gb*train_std[-1]+train_mean[-1], label='GB')\n",
    "\n",
    "plt.xlim(550, 700)\n",
    "plt.legend()"
   ]
  },
  {
   "cell_type": "code",
   "execution_count": null,
   "metadata": {},
   "outputs": [],
   "source": []
  }
 ],
 "metadata": {
  "kernelspec": {
   "display_name": "Python 3",
   "language": "python",
   "name": "python3"
  },
  "language_info": {
   "codemirror_mode": {
    "name": "ipython",
    "version": 3
   },
   "file_extension": ".py",
   "mimetype": "text/x-python",
   "name": "python",
   "nbconvert_exporter": "python",
   "pygments_lexer": "ipython3",
   "version": "3.6.10"
  }
 },
 "nbformat": 4,
 "nbformat_minor": 4
}
